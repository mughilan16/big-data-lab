{
  "cells": [
    {
      "cell_type": "markdown",
      "metadata": {
        "id": "view-in-github",
        "colab_type": "text"
      },
      "source": [
        "<a href=\"https://colab.research.google.com/github/mughilan16/big-data-lab/blob/master/MAPREDUCE.ipynb\" target=\"_parent\"><img src=\"https://colab.research.google.com/assets/colab-badge.svg\" alt=\"Open In Colab\"/></a>"
      ]
    },
    {
      "cell_type": "code",
      "execution_count": null,
      "metadata": {
        "colab": {
          "background_save": true
        },
        "id": "ZYWWPxXUzoBY"
      },
      "outputs": [],
      "source": [
        "!apt-get install openjdk-8-jdk\n",
        "!wget https://dlcdn.apache.org/hadoop/common/hadoop-3.3.6/hadoop-3.3.6.tar.gz\n",
        "!tar fx hadoop-3.3.6.tar.gz\n",
        "import os\n",
        "os.environ[\"JAVA_HOME\"] = \"/usr/lib/jvm/java-8-openjdk-amd64\"\n",
        "os.environ[\"HADOOP_HOME\"] = \"/content/hadoop-3.3.6\"\n",
        "!ln -s /content/hadoop-3.3.6/bin/* /usr/bin"
      ]
    },
    {
      "cell_type": "code",
      "execution_count": null,
      "metadata": {
        "id": "p_Ks9TK8z3Qz"
      },
      "outputs": [],
      "source": [
        "!hdfs dfs -mkdir input"
      ]
    },
    {
      "cell_type": "code",
      "execution_count": null,
      "metadata": {
        "colab": {
          "background_save": true
        },
        "id": "Fd9VsH5D0Bo6"
      },
      "outputs": [],
      "source": [
        "!hdfs dfs -ls input"
      ]
    },
    {
      "cell_type": "code",
      "execution_count": null,
      "metadata": {
        "id": "FHhathH90ysD"
      },
      "outputs": [],
      "source": [
        "!hdfs dfs -cat input/file1.txt"
      ]
    },
    {
      "cell_type": "code",
      "execution_count": null,
      "metadata": {
        "colab": {
          "base_uri": "https://localhost:8080/"
        },
        "id": "mMCJDYiw09QE",
        "outputId": "738366d7-721a-4860-9640-0f4cfa69194e"
      },
      "outputs": [
        {
          "output_type": "stream",
          "name": "stdout",
          "text": [
            "2024-02-08 07:02:17,444 INFO impl.MetricsConfig: Loaded properties from hadoop-metrics2.properties\n",
            "2024-02-08 07:02:17,612 INFO impl.MetricsSystemImpl: Scheduled Metric snapshot period at 10 second(s).\n",
            "2024-02-08 07:02:17,612 INFO impl.MetricsSystemImpl: JobTracker metrics system started\n",
            "2024-02-08 07:02:17,969 INFO input.FileInputFormat: Total input files to process : 0\n",
            "2024-02-08 07:02:17,982 INFO mapreduce.JobSubmitter: number of splits:0\n",
            "2024-02-08 07:02:18,309 INFO mapreduce.JobSubmitter: Submitting tokens for job: job_local2082807412_0001\n",
            "2024-02-08 07:02:18,310 INFO mapreduce.JobSubmitter: Executing with tokens: []\n",
            "2024-02-08 07:02:18,535 INFO mapreduce.Job: The url to track the job: http://localhost:8080/\n",
            "2024-02-08 07:02:18,536 INFO mapreduce.Job: Running job: job_local2082807412_0001\n",
            "2024-02-08 07:02:18,545 INFO mapred.LocalJobRunner: OutputCommitter set in config null\n",
            "2024-02-08 07:02:18,557 INFO output.PathOutputCommitterFactory: No output committer factory defined, defaulting to FileOutputCommitterFactory\n",
            "2024-02-08 07:02:18,560 INFO output.FileOutputCommitter: File Output Committer Algorithm version is 2\n",
            "2024-02-08 07:02:18,561 INFO output.FileOutputCommitter: FileOutputCommitter skip cleanup _temporary folders under output directory:false, ignore cleanup failures: false\n",
            "2024-02-08 07:02:18,562 INFO mapred.LocalJobRunner: OutputCommitter is org.apache.hadoop.mapreduce.lib.output.FileOutputCommitter\n",
            "2024-02-08 07:02:18,633 INFO mapred.LocalJobRunner: Waiting for map tasks\n",
            "2024-02-08 07:02:18,633 INFO mapred.LocalJobRunner: map task executor complete.\n",
            "2024-02-08 07:02:18,643 INFO mapred.LocalJobRunner: Waiting for reduce tasks\n",
            "2024-02-08 07:02:18,644 INFO mapred.LocalJobRunner: Starting task: attempt_local2082807412_0001_r_000000_0\n",
            "2024-02-08 07:02:18,718 INFO output.PathOutputCommitterFactory: No output committer factory defined, defaulting to FileOutputCommitterFactory\n",
            "2024-02-08 07:02:18,718 INFO output.FileOutputCommitter: File Output Committer Algorithm version is 2\n",
            "2024-02-08 07:02:18,718 INFO output.FileOutputCommitter: FileOutputCommitter skip cleanup _temporary folders under output directory:false, ignore cleanup failures: false\n",
            "2024-02-08 07:02:18,749 INFO mapred.Task:  Using ResourceCalculatorProcessTree : [ ]\n",
            "2024-02-08 07:02:18,759 INFO mapred.ReduceTask: Using ShuffleConsumerPlugin: org.apache.hadoop.mapreduce.task.reduce.Shuffle@5e35b6e7\n",
            "2024-02-08 07:02:18,761 WARN impl.MetricsSystemImpl: JobTracker metrics system already initialized!\n",
            "2024-02-08 07:02:18,806 INFO reduce.MergeManagerImpl: MergerManager: memoryLimit=2117966208, maxSingleShuffleLimit=529491552, mergeThreshold=1397857792, ioSortFactor=10, memToMemMergeOutputsThreshold=10\n",
            "2024-02-08 07:02:18,817 INFO reduce.EventFetcher: attempt_local2082807412_0001_r_000000_0 Thread started: EventFetcher for fetching Map Completion Events\n",
            "2024-02-08 07:02:18,837 INFO reduce.EventFetcher: EventFetcher is interrupted.. Returning\n",
            "2024-02-08 07:02:18,843 INFO mapred.LocalJobRunner: \n",
            "2024-02-08 07:02:18,843 INFO reduce.MergeManagerImpl: finalMerge called with 0 in-memory map-outputs and 0 on-disk map-outputs\n",
            "2024-02-08 07:02:18,845 INFO reduce.MergeManagerImpl: Merging 0 files, 0 bytes from disk\n",
            "2024-02-08 07:02:18,846 INFO reduce.MergeManagerImpl: Merging 0 segments, 0 bytes from memory into reduce\n",
            "2024-02-08 07:02:18,853 INFO mapred.Merger: Merging 0 sorted segments\n",
            "2024-02-08 07:02:18,854 INFO mapred.Merger: Down to the last merge-pass, with 0 segments left of total size: 0 bytes\n",
            "2024-02-08 07:02:18,854 INFO mapred.LocalJobRunner: \n",
            "2024-02-08 07:02:18,860 INFO Configuration.deprecation: mapred.skip.on is deprecated. Instead, use mapreduce.job.skiprecords\n",
            "2024-02-08 07:02:18,898 INFO mapred.Task: Task:attempt_local2082807412_0001_r_000000_0 is done. And is in the process of committing\n",
            "2024-02-08 07:02:18,906 INFO mapred.LocalJobRunner: \n",
            "2024-02-08 07:02:18,906 INFO mapred.Task: Task attempt_local2082807412_0001_r_000000_0 is allowed to commit now\n",
            "2024-02-08 07:02:18,914 INFO output.FileOutputCommitter: Saved output of task 'attempt_local2082807412_0001_r_000000_0' to file:/content/output\n",
            "2024-02-08 07:02:18,918 INFO mapred.LocalJobRunner: reduce > reduce\n",
            "2024-02-08 07:02:18,918 INFO mapred.Task: Task 'attempt_local2082807412_0001_r_000000_0' done.\n",
            "2024-02-08 07:02:18,935 INFO mapred.Task: Final Counters for attempt_local2082807412_0001_r_000000_0: Counters: 24\n",
            "\tFile System Counters\n",
            "\t\tFILE: Number of bytes read=281370\n",
            "\t\tFILE: Number of bytes written=919484\n",
            "\t\tFILE: Number of read operations=0\n",
            "\t\tFILE: Number of large read operations=0\n",
            "\t\tFILE: Number of write operations=0\n",
            "\tMap-Reduce Framework\n",
            "\t\tCombine input records=0\n",
            "\t\tCombine output records=0\n",
            "\t\tReduce input groups=0\n",
            "\t\tReduce shuffle bytes=0\n",
            "\t\tReduce input records=0\n",
            "\t\tReduce output records=0\n",
            "\t\tSpilled Records=0\n",
            "\t\tShuffled Maps =0\n",
            "\t\tFailed Shuffles=0\n",
            "\t\tMerged Map outputs=0\n",
            "\t\tGC time elapsed (ms)=0\n",
            "\t\tTotal committed heap usage (bytes)=258473984\n",
            "\tShuffle Errors\n",
            "\t\tBAD_ID=0\n",
            "\t\tCONNECTION=0\n",
            "\t\tIO_ERROR=0\n",
            "\t\tWRONG_LENGTH=0\n",
            "\t\tWRONG_MAP=0\n",
            "\t\tWRONG_REDUCE=0\n",
            "\tFile Output Format Counters \n",
            "\t\tBytes Written=8\n",
            "2024-02-08 07:02:18,935 INFO mapred.LocalJobRunner: Finishing task: attempt_local2082807412_0001_r_000000_0\n",
            "2024-02-08 07:02:18,939 INFO mapred.LocalJobRunner: reduce task executor complete.\n",
            "2024-02-08 07:02:19,544 INFO mapreduce.Job: Job job_local2082807412_0001 running in uber mode : false\n",
            "2024-02-08 07:02:19,545 INFO mapreduce.Job:  map 0% reduce 100%\n",
            "2024-02-08 07:02:19,546 INFO mapreduce.Job: Job job_local2082807412_0001 completed successfully\n",
            "2024-02-08 07:02:19,555 INFO mapreduce.Job: Counters: 24\n",
            "\tFile System Counters\n",
            "\t\tFILE: Number of bytes read=281370\n",
            "\t\tFILE: Number of bytes written=919484\n",
            "\t\tFILE: Number of read operations=0\n",
            "\t\tFILE: Number of large read operations=0\n",
            "\t\tFILE: Number of write operations=0\n",
            "\tMap-Reduce Framework\n",
            "\t\tCombine input records=0\n",
            "\t\tCombine output records=0\n",
            "\t\tReduce input groups=0\n",
            "\t\tReduce shuffle bytes=0\n",
            "\t\tReduce input records=0\n",
            "\t\tReduce output records=0\n",
            "\t\tSpilled Records=0\n",
            "\t\tShuffled Maps =0\n",
            "\t\tFailed Shuffles=0\n",
            "\t\tMerged Map outputs=0\n",
            "\t\tGC time elapsed (ms)=0\n",
            "\t\tTotal committed heap usage (bytes)=258473984\n",
            "\tShuffle Errors\n",
            "\t\tBAD_ID=0\n",
            "\t\tCONNECTION=0\n",
            "\t\tIO_ERROR=0\n",
            "\t\tWRONG_LENGTH=0\n",
            "\t\tWRONG_MAP=0\n",
            "\t\tWRONG_REDUCE=0\n",
            "\tFile Output Format Counters \n",
            "\t\tBytes Written=8\n"
          ]
        }
      ],
      "source": [
        "!yarn jar /content/hadoop-3.3.6/share/hadoop/mapreduce/hadoop-mapreduce-examples-3.3.6.jar wordcount input output"
      ]
    }
  ],
  "metadata": {
    "colab": {
      "provenance": [],
      "include_colab_link": true
    },
    "kernelspec": {
      "display_name": "Python 3",
      "name": "python3"
    },
    "language_info": {
      "name": "python"
    }
  },
  "nbformat": 4,
  "nbformat_minor": 0
}