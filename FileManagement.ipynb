{
  "nbformat": 4,
  "nbformat_minor": 0,
  "metadata": {
    "colab": {
      "provenance": [],
      "authorship_tag": "ABX9TyNDZoKPdb3gAhzZVLkn4u9N",
      "include_colab_link": true
    },
    "kernelspec": {
      "name": "python3",
      "display_name": "Python 3"
    },
    "language_info": {
      "name": "python"
    }
  },
  "cells": [
    {
      "cell_type": "markdown",
      "metadata": {
        "id": "view-in-github",
        "colab_type": "text"
      },
      "source": [
        "<a href=\"https://colab.research.google.com/github/mughilan16/big-data-lab/blob/master/FileManagement.ipynb\" target=\"_parent\"><img src=\"https://colab.research.google.com/assets/colab-badge.svg\" alt=\"Open In Colab\"/></a>"
      ]
    },
    {
      "cell_type": "code",
      "execution_count": null,
      "metadata": {
        "id": "yskbDhVYRtWp"
      },
      "outputs": [],
      "source": [
        "!apt-get install openjdk-8-jdk\n",
        "!wget https://dlcdn.apache.org/hadoop/common/hadoop-3.3.6/hadoop-3.3.6.tar.gz\n",
        "!tar fx hadoop-3.3.6.tar.gz\n",
        "import os\n",
        "os.environ[\"JAVA_HOME\"] = \"/usr/lib/jvm/java-8-openjdk-amd64\"\n",
        "os.environ[\"HADOOP_HOME\"] = \"/content/hadoop-3.3.6\"\n",
        "!ln -s /content/hadoop-3.3.6/bin/* /usr/bin"
      ]
    },
    {
      "cell_type": "markdown",
      "source": [
        "# List all files in a folder"
      ],
      "metadata": {
        "id": "J5WEsGDmSQvk"
      }
    },
    {
      "cell_type": "code",
      "source": [
        "!hdfs dfs -ls"
      ],
      "metadata": {
        "colab": {
          "base_uri": "https://localhost:8080/"
        },
        "id": "WKY4PAEwSBvD",
        "outputId": "8a099233-75ec-4ad9-aee5-2d71c7bcb8d6"
      },
      "execution_count": null,
      "outputs": [
        {
          "output_type": "stream",
          "name": "stdout",
          "text": [
            "Found 4 items\n",
            "drwxr-xr-x   - root root       4096 2024-02-23 14:26 .config\n",
            "drwxr-xr-x   - 1000 1000       4096 2023-06-18 09:08 hadoop-3.3.6\n",
            "-rw-r--r--   1 root root  730107476 2023-06-25 23:35 hadoop-3.3.6.tar.gz\n",
            "drwxr-xr-x   - root root       4096 2024-02-23 14:26 sample_data\n"
          ]
        }
      ]
    },
    {
      "cell_type": "markdown",
      "source": [
        "# Create a new folder"
      ],
      "metadata": {
        "id": "iId8oUofSVKc"
      }
    },
    {
      "cell_type": "code",
      "source": [
        "!hdfs dfs -mkdir example"
      ],
      "metadata": {
        "id": "KrUb4vpSSXG8"
      },
      "execution_count": null,
      "outputs": []
    },
    {
      "cell_type": "markdown",
      "source": [
        "# Create a new file"
      ],
      "metadata": {
        "id": "qQGrPJtMSfgj"
      }
    },
    {
      "cell_type": "code",
      "source": [
        "!hdfs dfs -touch example/file.txt"
      ],
      "metadata": {
        "id": "hunxONs8Se0b"
      },
      "execution_count": null,
      "outputs": []
    },
    {
      "cell_type": "markdown",
      "source": [
        "# Display File"
      ],
      "metadata": {
        "id": "QJrbqA9uUiJN"
      }
    },
    {
      "cell_type": "code",
      "source": [
        "!hdfs dfs -cat /content/example/file1.txt"
      ],
      "metadata": {
        "colab": {
          "base_uri": "https://localhost:8080/"
        },
        "id": "POO3BX32UkK8",
        "outputId": "0c60c616-c75e-44ed-8ccc-318ccdd3bbc6"
      },
      "execution_count": null,
      "outputs": [
        {
          "output_type": "stream",
          "name": "stdout",
          "text": [
            "Hello world"
          ]
        }
      ]
    },
    {
      "cell_type": "markdown",
      "source": [
        "# Move file"
      ],
      "metadata": {
        "id": "MygQor68SoAz"
      }
    },
    {
      "cell_type": "code",
      "source": [
        "!hdfs dfs -mv example/file1.txt file1.txt"
      ],
      "metadata": {
        "id": "EYZLB1hNStjS"
      },
      "execution_count": null,
      "outputs": []
    },
    {
      "cell_type": "markdown",
      "source": [
        "# Copy a file"
      ],
      "metadata": {
        "id": "Pc7dRV4cYbcA"
      }
    },
    {
      "cell_type": "code",
      "source": [
        "!hdfs dfs -cp file1.txt example/file1.txt"
      ],
      "metadata": {
        "id": "gFT8MA3AYeKF"
      },
      "execution_count": null,
      "outputs": []
    },
    {
      "cell_type": "markdown",
      "source": [
        "# Remove a file"
      ],
      "metadata": {
        "id": "jJL74RjyYu4d"
      }
    },
    {
      "cell_type": "code",
      "source": [
        "!hdfs dfs -rm example/file1.txt"
      ],
      "metadata": {
        "colab": {
          "base_uri": "https://localhost:8080/"
        },
        "id": "OzwknA_bYtnW",
        "outputId": "967ed02c-41b5-4515-e7e3-ac74e95671b4"
      },
      "execution_count": null,
      "outputs": [
        {
          "output_type": "stream",
          "name": "stdout",
          "text": [
            "2024-02-27 07:06:23,521 INFO Configuration.deprecation: io.bytes.per.checksum is deprecated. Instead, use dfs.bytes-per-checksum\n",
            "Deleted example/file1.txt\n"
          ]
        }
      ]
    },
    {
      "cell_type": "markdown",
      "source": [
        "# Remove a folder"
      ],
      "metadata": {
        "id": "TiTgy8UEY7Ol"
      }
    },
    {
      "cell_type": "code",
      "source": [
        "!hdfs dfs -rmd example"
      ],
      "metadata": {
        "id": "RpQ2Gl8TY4ZV",
        "outputId": "36329978-dc45-49b7-8aa2-838ccc5cac9c",
        "colab": {
          "base_uri": "https://localhost:8080/"
        }
      },
      "execution_count": null,
      "outputs": [
        {
          "output_type": "stream",
          "name": "stdout",
          "text": [
            "rm: `example': Is a directory\n"
          ]
        }
      ]
    }
  ]
}