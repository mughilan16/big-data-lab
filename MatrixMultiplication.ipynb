{
  "nbformat": 4,
  "nbformat_minor": 0,
  "metadata": {
    "colab": {
      "provenance": [],
      "collapsed_sections": [
        "GnBpUf8M9h01",
        "ICEyjeZ2p-LK",
        "S0HP_JtrqLZl",
        "KctuTMmXrwC1"
      ],
      "include_colab_link": true
    },
    "kernelspec": {
      "name": "python3",
      "display_name": "Python 3"
    },
    "language_info": {
      "name": "python"
    }
  },
  "cells": [
    {
      "cell_type": "markdown",
      "metadata": {
        "id": "view-in-github",
        "colab_type": "text"
      },
      "source": [
        "<a href=\"https://colab.research.google.com/github/mughilan16/big-data-lab/blob/master/MatrixMultiplication.ipynb\" target=\"_parent\"><img src=\"https://colab.research.google.com/assets/colab-badge.svg\" alt=\"Open In Colab\"/></a>"
      ]
    },
    {
      "cell_type": "markdown",
      "source": [
        "## Installing jdk using apt package manager\n",
        "## Downloading and installing hadoop  "
      ],
      "metadata": {
        "id": "GnBpUf8M9h01"
      }
    },
    {
      "cell_type": "code",
      "execution_count": null,
      "metadata": {
        "id": "ZUQkcgGX5N-W"
      },
      "outputs": [],
      "source": [
        "!apt-get install openjdk-8-jdk\n",
        "!wget https://dlcdn.apache.org/hadoop/common/hadoop-3.3.6/hadoop-3.3.6.tar.gz\n",
        "!tar fx hadoop-3.3.6.tar.gz\n",
        "import os\n",
        "os.environ[\"JAVA_HOME\"] = \"/usr/lib/jvm/java-8-openjdk-amd64\"\n",
        "os.environ[\"HADOOP_HOME\"] = \"/content/hadoop-3.3.6\"\n",
        "!ln -s /content/hadoop-3.3.6/bin/* /usr/bin"
      ]
    },
    {
      "cell_type": "markdown",
      "source": [
        "## Create a python file mapper.py\n",
        "## Make the file executable"
      ],
      "metadata": {
        "id": "ICEyjeZ2p-LK"
      }
    },
    {
      "cell_type": "code",
      "source": [
        "!chmod +x mapper.py"
      ],
      "metadata": {
        "id": "Ha84_cFz9rjk"
      },
      "execution_count": null,
      "outputs": []
    },
    {
      "cell_type": "markdown",
      "source": [
        "## Create a python file reducer\n",
        "## Make the file executable"
      ],
      "metadata": {
        "id": "S0HP_JtrqLZl"
      }
    },
    {
      "cell_type": "code",
      "source": [
        "!chmod +x reducer.py"
      ],
      "metadata": {
        "id": "poFyv9_H-GBz"
      },
      "execution_count": null,
      "outputs": []
    },
    {
      "cell_type": "markdown",
      "source": [
        "Run Matrix mulitplication through hadoop mapreduce"
      ],
      "metadata": {
        "id": "K40uBdyOqRn-"
      }
    },
    {
      "cell_type": "code",
      "source": [
        "!hadoop jar /content/hadoop-3.3.6/share/hadoop/tools/lib/hadoop-streaming-3.3.6.jar \\\n",
        "    -files mapper.py,reducer.py \\\n",
        "    -mapper mapper.py \\\n",
        "    -reducer reducer.py \\\n",
        "    -input input \\\n",
        "    -output output"
      ],
      "metadata": {
        "id": "d0nDTOhL-Nb2"
      },
      "execution_count": null,
      "outputs": []
    },
    {
      "cell_type": "markdown",
      "source": [
        "Display the output"
      ],
      "metadata": {
        "id": "DdKBRT00qX3H"
      }
    },
    {
      "cell_type": "code",
      "source": [
        "!cat output/part-00000"
      ],
      "metadata": {
        "colab": {
          "base_uri": "https://localhost:8080/"
        },
        "id": "UzRyGxseo3Go",
        "outputId": "f2c99741-6c4c-4e66-b779-a02191c681cf"
      },
      "execution_count": 31,
      "outputs": [
        {
          "output_type": "stream",
          "name": "stdout",
          "text": [
            "(0,1),90.000000\t\n",
            "(0,2),100.000000\t\n",
            "(1,0),110.000000\t\n",
            "(1,1),240.000000\t\n",
            "(1,2),275.000000\t\n",
            "(1,2),310.000000\t\n"
          ]
        }
      ]
    },
    {
      "cell_type": "markdown",
      "source": [
        "# Programs"
      ],
      "metadata": {
        "id": "lBO_0T16rXu0"
      }
    },
    {
      "cell_type": "markdown",
      "source": [
        "## Mapper.py"
      ],
      "metadata": {
        "id": "oCM_VSbGr0F6"
      }
    },
    {
      "cell_type": "code",
      "source": [
        "#!/usr/bin/env python\n",
        "# map function for matrix multiply\n",
        "#Input file assumed to have lines of the form \"A,i,j,x\", where i is the row index, j is the column index, and x is the value in row i, column j of A. Entries of A are followed by lines of the form \"B,i,j,x\" for the matrix B.\n",
        "#It is assumed that the matrix dimensions are such that the product A*B exists.\n",
        "\n",
        "#Input arguments:\n",
        "#m should be set to the number of rows in A, p should be set to the number of columns in B.\n",
        "\n",
        "import sys\n",
        "import string\n",
        "import numpy\n",
        "\n",
        "#number of rows in A\n",
        "m = 2\n",
        "\n",
        "#number of columns in B\n",
        "p = 3\n",
        "\n",
        "\n",
        "# input comes from STDIN (stream data that goes to the program)\n",
        "for line in sys.stdin:\n",
        "\n",
        "  #Remove leading and trailing whitespace\n",
        "  line = line.strip()\n",
        "\n",
        "  #Split line into array of entry data\n",
        "  entry = line.split(\",\")\n",
        "\n",
        "  # Set row, column, and value for this entry\n",
        "  row = int(entry[1])\n",
        "  col = int(entry[2])\n",
        "  value = float(entry[3])\n",
        "\n",
        "  #If this is an entry in matrix A...\n",
        "  if (entry[0] == \"A\"):\n",
        "\n",
        "    #Generate the necessary key-value pairs\n",
        "    for k in range(p):\n",
        "      print('{0:d},{1:d}\\tA,{2:d},{3:f}'.format(row, k, col, value))\n",
        "\n",
        "  #Otherwise, if this is an entry in matrix B...\n",
        "  else:\n",
        "\n",
        "    #Generate the necessary key-value pairs\n",
        "    for k in range(m):\n",
        "      print('{0:d},{1:d}\\tB,{2:d},{3:f}'.format(k, col, row, value))"
      ],
      "metadata": {
        "id": "AnJ_1hVlrNVD"
      },
      "execution_count": null,
      "outputs": []
    },
    {
      "cell_type": "markdown",
      "source": [
        "## Reducer.py"
      ],
      "metadata": {
        "id": "KctuTMmXrwC1"
      }
    },
    {
      "cell_type": "code",
      "source": [
        "#!/usr/bin/env python\n",
        "#Reduce function for computing matrix multiply A*B\n",
        "\n",
        "#Input arguments:\n",
        "#variable n should be set to the inner dimension of the matrix product (i.e., the number of columns of A/rows of B)\n",
        "\n",
        "import sys\n",
        "import string\n",
        "import numpy\n",
        "\n",
        "#number of columns of A/rows of B\n",
        "n = 5\n",
        "\n",
        "#Create data structures to hold the current row/column values\n",
        "current_key = None\n",
        "current_res = 0.0\n",
        "value_dict = dict()\n",
        "\n",
        "# input comes from STDIN (stream data that goes to the program)\n",
        "for line in sys.stdin:\n",
        "\n",
        "  #Remove leading and trailing whitespace\n",
        "  line = line.strip()\n",
        "\n",
        "  #Get key/value\n",
        "  key, value = line.split('\\t',1)\n",
        "\n",
        "  #Parse key/value input\n",
        "  try:\n",
        "    row, col = map(int, key.split(','))\n",
        "    value = value.split(',')\n",
        "    key = (row, col)\n",
        "    replicate_key, element_value = int(value[1]), float(value[2])\n",
        "  except:\n",
        "    continue\n",
        "\n",
        "  #If we are still on the same key...\n",
        "  if key == current_key:\n",
        "\n",
        "    #Process key/value pair\n",
        "    if replicate_key not in value_dict:\n",
        "      value_dict[replicate_key] = [element_value]\n",
        "    else:\n",
        "      value_dict[replicate_key].append(element_value)\n",
        "\n",
        "  #Otherwise, if this is a new key...\n",
        "  else:\n",
        "\n",
        "    #If this is a new key and not the first key we've seen\n",
        "    if current_key:\n",
        "\n",
        "      #compute/output result to STDOUT\n",
        "      for j in range(n):\n",
        "        if (j in value_dict) and (len(value_dict[j]) == 2):\n",
        "          current_res += value_dict[j][0] * value_dict[j][1]\n",
        "      print ('({0:d},{1:d}),{2:f}'.format(row, col, current_res))\n",
        "\n",
        "    current_key = key\n",
        "    value_dict = dict()\n",
        "\n",
        "    #Process input for new key\n",
        "    value_dict[replicate_key] = [element_value]\n",
        "    current_res = 0.0\n",
        "\n",
        "\n",
        "#Compute/output result for the last key\n",
        "\n",
        "if current_key:\n",
        "  for j in range(n):\n",
        "    if (j in value_dict) and (len(value_dict[j]) == 2):\n",
        "      current_res += value_dict[j][0] * value_dict[j][1]\n",
        "  print('({0:d},{1:d}),{2:f}'.format(row, col, current_res))"
      ],
      "metadata": {
        "id": "Z-VenHQZrRtD"
      },
      "execution_count": null,
      "outputs": []
    },
    {
      "cell_type": "markdown",
      "source": [
        "## Input Example"
      ],
      "metadata": {
        "id": "3WAmfAZFrsDd"
      }
    },
    {
      "cell_type": "code",
      "source": [
        "A,0,0,0.0\n",
        "A,0,1,1.0\n",
        "A,0,2,2.0\n",
        "A,0,3,3.0\n",
        "A,0,4,4.0\n",
        "A,1,0,5.0\n",
        "A,1,1,6.0\n",
        "A,1,2,7.0\n",
        "A,1,3,8.0\n",
        "A,1,4,9.0\n",
        "B,0,0,0.0\n",
        "B,0,1,1.0\n",
        "B,0,2,2.0\n",
        "B,1,0,3.0\n",
        "B,1,1,4.0\n",
        "B,1,2,5.0\n",
        "B,2,0,6.0\n",
        "B,2,1,7.0\n",
        "B,2,2,8.0\n",
        "B,3,0,9.0\n",
        "B,3,1,10.0\n",
        "B,3,2,11.0\n",
        "B,4,0,12.0\n",
        "B,4,1,13.0\n",
        "B,4,2,14.0"
      ],
      "metadata": {
        "id": "XSZGHU1grp1-"
      },
      "execution_count": null,
      "outputs": []
    }
  ]
}