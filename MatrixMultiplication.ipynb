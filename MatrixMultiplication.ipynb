{
  "nbformat": 4,
  "nbformat_minor": 0,
  "metadata": {
    "colab": {
      "provenance": [],
      "collapsed_sections": [
        "GnBpUf8M9h01",
        "ICEyjeZ2p-LK",
        "S0HP_JtrqLZl",
        "KctuTMmXrwC1"
      ],
      "include_colab_link": true
    },
    "kernelspec": {
      "name": "python3",
      "display_name": "Python 3"
    },
    "language_info": {
      "name": "python"
    }
  },
  "cells": [
    {
      "cell_type": "markdown",
      "metadata": {
        "id": "view-in-github",
        "colab_type": "text"
      },
      "source": [
        "<a href=\"https://colab.research.google.com/github/mughilan16/big-data-lab/blob/master/MatrixMultiplication.ipynb\" target=\"_parent\"><img src=\"https://colab.research.google.com/assets/colab-badge.svg\" alt=\"Open In Colab\"/></a>"
      ]
    },
    {
      "cell_type": "markdown",
      "source": [
        "## Installing jdk using apt package manager\n",
        "## Downloading and installing hadoop  "
      ],
      "metadata": {
        "id": "GnBpUf8M9h01"
      }
    },
    {
      "cell_type": "code",
      "execution_count": null,
      "metadata": {
        "id": "ZUQkcgGX5N-W"
      },
      "outputs": [],
      "source": [
        "!apt-get install openjdk-8-jdk\n",
        "!wget https://dlcdn.apache.org/hadoop/common/hadoop-3.3.6/hadoop-3.3.6.tar.gz\n",
        "!tar fx hadoop-3.3.6.tar.gz\n",
        "import os\n",
        "os.environ[\"JAVA_HOME\"] = \"/usr/lib/jvm/java-8-openjdk-amd64\"\n",
        "os.environ[\"HADOOP_HOME\"] = \"/content/hadoop-3.3.6\"\n",
        "!ln -s /content/hadoop-3.3.6/bin/* /usr/bin"
      ]
    },
    {
      "cell_type": "markdown",
      "source": [
        "## Create a python file mapper.py\n",
        "## Make the file executable"
      ],
      "metadata": {
        "id": "ICEyjeZ2p-LK"
      }
    },
    {
      "cell_type": "code",
      "source": [
        "!chmod +x mapper.py"
      ],
      "metadata": {
        "id": "Ha84_cFz9rjk"
      },
      "execution_count": null,
      "outputs": []
    },
    {
      "cell_type": "markdown",
      "source": [
        "## Create a python file reducer\n",
        "## Make the file executable"
      ],
      "metadata": {
        "id": "S0HP_JtrqLZl"
      }
    },
    {
      "cell_type": "code",
      "source": [
        "!chmod +x reducer.py"
      ],
      "metadata": {
        "id": "poFyv9_H-GBz"
      },
      "execution_count": null,
      "outputs": []
    },
    {
      "cell_type": "markdown",
      "source": [
        "Run Matrix mulitplication through hadoop mapreduce"
      ],
      "metadata": {
        "id": "K40uBdyOqRn-"
      }
    },
    {
      "cell_type": "code",
      "source": [
        "!hadoop jar /content/hadoop-3.3.6/share/hadoop/tools/lib/hadoop-streaming-3.3.6.jar \\\n",
        "    -files mapper.py,reducer.py \\\n",
        "    -mapper mapper.py \\\n",
        "    -reducer reducer.py \\\n",
        "    -input input \\\n",
        "    -output output"
      ],
      "metadata": {
        "id": "d0nDTOhL-Nb2"
      },
      "execution_count": null,
      "outputs": []
    },
    {
      "cell_type": "markdown",
      "source": [
        "Display the output"
      ],
      "metadata": {
        "id": "DdKBRT00qX3H"
      }
    },
    {
      "cell_type": "code",
      "source": [
        "!cat output/part-00000"
      ],
      "metadata": {
        "colab": {
          "base_uri": "https://localhost:8080/"
        },
        "id": "UzRyGxseo3Go",
        "outputId": "f2c99741-6c4c-4e66-b779-a02191c681cf"
      },
      "execution_count": null,
      "outputs": [
        {
          "output_type": "stream",
          "name": "stdout",
          "text": [
            "(0,1),90.000000\t\n",
            "(0,2),100.000000\t\n",
            "(1,0),110.000000\t\n",
            "(1,1),240.000000\t\n",
            "(1,2),275.000000\t\n",
            "(1,2),310.000000\t\n"
          ]
        }
      ]
    }
  ]
}