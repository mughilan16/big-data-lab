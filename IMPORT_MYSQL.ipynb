{
  "nbformat": 4,
  "nbformat_minor": 0,
  "metadata": {
    "colab": {
      "provenance": [],
      "authorship_tag": "ABX9TyMq1zuA0RFr1XsE6vR8EUko",
      "include_colab_link": true
    },
    "kernelspec": {
      "name": "python3",
      "display_name": "Python 3"
    },
    "language_info": {
      "name": "python"
    }
  },
  "cells": [
    {
      "cell_type": "markdown",
      "metadata": {
        "id": "view-in-github",
        "colab_type": "text"
      },
      "source": [
        "<a href=\"https://colab.research.google.com/github/mughilan16/big-data-lab/blob/master/IMPORT_MYSQL.ipynb\" target=\"_parent\"><img src=\"https://colab.research.google.com/assets/colab-badge.svg\" alt=\"Open In Colab\"/></a>"
      ]
    },
    {
      "cell_type": "markdown",
      "source": [
        "### Installing Hadoop"
      ],
      "metadata": {
        "id": "IB5KbLL1gTuz"
      }
    },
    {
      "cell_type": "code",
      "execution_count": null,
      "metadata": {
        "id": "50qFiu7dvSoW"
      },
      "outputs": [],
      "source": [
        "!apt-get install openjdk-8-jdk\n",
        "!wget https://dlcdn.apache.org/hadoop/common/hadoop-3.3.6/hadoop-3.3.6.tar.gz\n",
        "!tar fx hadoop-3.3.6.tar.gz\n",
        "import os\n",
        "os.environ[\"JAVA_HOME\"] = \"/usr/lib/jvm/java-8-openjdk-amd64\"\n",
        "os.environ[\"HADOOP_HOME\"] = \"/content/hadoop-3.3.6\"\n",
        "!ln -s /content/hadoop-3.3.6/bin/* /usr/bin"
      ]
    },
    {
      "cell_type": "markdown",
      "source": [
        "### Installing MYSQL SERVER"
      ],
      "metadata": {
        "id": "1U_nhcREzMEH"
      }
    },
    {
      "cell_type": "code",
      "source": [
        "!apt-get -y install mysql-server"
      ],
      "metadata": {
        "id": "sd5fIp-4v9jJ"
      },
      "execution_count": null,
      "outputs": []
    },
    {
      "cell_type": "markdown",
      "source": [
        "### Start MYSQL service"
      ],
      "metadata": {
        "id": "jFat5hBNzQGH"
      }
    },
    {
      "cell_type": "code",
      "source": [
        "!service mysql start"
      ],
      "metadata": {
        "id": "P0GvnXlCwAX4"
      },
      "execution_count": null,
      "outputs": []
    },
    {
      "cell_type": "markdown",
      "source": [
        "### Installing mysql-connector"
      ],
      "metadata": {
        "id": "JTYxddFVzTfn"
      }
    },
    {
      "cell_type": "code",
      "source": [
        "!pip install mysql-connector-python"
      ],
      "metadata": {
        "colab": {
          "base_uri": "https://localhost:8080/"
        },
        "id": "iHQ6J7MwxYdt",
        "outputId": "f883821b-79ce-473f-847c-f7543a99b49b"
      },
      "execution_count": null,
      "outputs": [
        {
          "output_type": "stream",
          "name": "stdout",
          "text": [
            "Requirement already satisfied: mysql-connector-python in /usr/local/lib/python3.10/dist-packages (8.3.0)\n"
          ]
        }
      ]
    },
    {
      "cell_type": "markdown",
      "source": [
        "### Create a connection with the mysql server"
      ],
      "metadata": {
        "id": "Pf3IvnOGzZCX"
      }
    },
    {
      "cell_type": "code",
      "source": [
        "import mysql.connector\n",
        "\n",
        "# Create a connection to the MySQL server\n",
        "conn = mysql.connector.connect(user='root', password='root', host='localhost')\n",
        "\n",
        "# Create a cursor to interact with the MySQL server\n",
        "cursor = conn.cursor()"
      ],
      "metadata": {
        "id": "oOr2bxk2xWE2"
      },
      "execution_count": null,
      "outputs": []
    },
    {
      "cell_type": "markdown",
      "source": [
        "### Create Database"
      ],
      "metadata": {
        "id": "GrhWd_Itzdx6"
      }
    },
    {
      "cell_type": "code",
      "source": [
        "# Create a new database named 'library'\n",
        "cursor.execute(\"CREATE DATABASE IF NOT EXISTS library\")\n",
        "\n",
        "# Switch to the 'library' database\n",
        "cursor.execute(\"USE library\")\n",
        "\n",
        "# Create the 'books' table\n",
        "cursor.execute('''\n",
        "CREATE TABLE IF NOT EXISTS books (\n",
        "    id INT AUTO_INCREMENT PRIMARY KEY,\n",
        "    title VARCHAR(255) NOT NULL,\n",
        "    author VARCHAR(255) NOT NULL,\n",
        "    year_published INT\n",
        ")\n",
        "''')\n",
        "\n",
        "# Always remember to close the cursor and connection when done\n",
        "cursor.close()\n",
        "conn.close()"
      ],
      "metadata": {
        "id": "DWbnNnW0yZTm"
      },
      "execution_count": null,
      "outputs": []
    },
    {
      "cell_type": "markdown",
      "source": [
        "### Populate database"
      ],
      "metadata": {
        "id": "1HbXE3Kmzhvn"
      }
    },
    {
      "cell_type": "code",
      "source": [
        "import mysql.connector\n",
        "\n",
        "# Connect to the MySQL server and the 'library' database\n",
        "conn = mysql.connector.connect(user='root', password='root', host='localhost', database='library')\n",
        "cursor = conn.cursor()\n",
        "\n",
        "books_data = [\n",
        "    (\"To Kill a Mockingbird\", \"Harper Lee\", 1960),\n",
        "    (\"1984\", \"George Orwell\", 1949),\n",
        "    (\"The Great Gatsby\", \"F. Scott Fitzgerald\", 1925)\n",
        "]\n",
        "\n",
        "# Insert data using the cursor\n",
        "cursor.executemany('''\n",
        "INSERT INTO books (title, author, year_published) VALUES (%s, %s, %s)\n",
        "''', books_data)\n",
        "\n",
        "# Commit the changes\n",
        "conn.commit()\n",
        "\n",
        "# Close the cursor and connection\n",
        "cursor.close()\n",
        "conn.close()"
      ],
      "metadata": {
        "id": "asHR9yl1yiBn"
      },
      "execution_count": null,
      "outputs": []
    },
    {
      "cell_type": "markdown",
      "source": [
        "### print data from database"
      ],
      "metadata": {
        "id": "MdxA-bDgzso3"
      }
    },
    {
      "cell_type": "code",
      "source": [
        "import mysql.connector\n",
        "\n",
        "# Connect to the MySQL server and the 'library' database\n",
        "conn = mysql.connector.connect(user='root', password='root', host='localhost', database='library')\n",
        "cursor = conn.cursor()\n",
        "\n",
        "# Execute the SELECT query\n",
        "cursor.execute(\"SELECT * FROM books\")\n",
        "\n",
        "# Fetch all the results\n",
        "records = cursor.fetchall()\n",
        "\n",
        "# Print the records\n",
        "for record in records:\n",
        "    print(record)\n",
        "\n",
        "# Close the cursor and connection\n",
        "cursor.close()\n",
        "conn.close()"
      ],
      "metadata": {
        "colab": {
          "base_uri": "https://localhost:8080/"
        },
        "id": "IcljD2f0yljw",
        "outputId": "1a689e1b-a141-4f80-f0e6-07c0f2088a27"
      },
      "execution_count": null,
      "outputs": [
        {
          "output_type": "stream",
          "name": "stdout",
          "text": [
            "(1, 'To Kill a Mockingbird', 'Harper Lee', 1960)\n",
            "(2, '1984', 'George Orwell', 1949)\n",
            "(3, 'The Great Gatsby', 'F. Scott Fitzgerald', 1925)\n",
            "(4, 'To Kill a Mockingbird', 'Harper Lee', 1960)\n",
            "(5, '1984', 'George Orwell', 1949)\n",
            "(6, 'The Great Gatsby', 'F. Scott Fitzgerald', 1925)\n",
            "(7, 'To Kill a Mockingbird', 'Harper Lee', 1960)\n",
            "(8, '1984', 'George Orwell', 1949)\n",
            "(9, 'The Great Gatsby', 'F. Scott Fitzgerald', 1925)\n"
          ]
        }
      ]
    },
    {
      "cell_type": "code",
      "source": [
        "import mysql.connector\n",
        "\n",
        "# Connect to the MySQL server and the 'library' database\n",
        "conn = mysql.connector.connect(user='root', password='root', host='localhost', database='library')\n",
        "cursor = conn.cursor()\n",
        "cursor.execute(\"SELECT * FROM books WHERE year_published < 1950\")\n",
        "classics = cursor.fetchall()\n",
        "\n",
        "for classic in classics:\n",
        "    print(classic)\n",
        "\n",
        "cursor.close()\n",
        "conn.close()"
      ],
      "metadata": {
        "colab": {
          "base_uri": "https://localhost:8080/"
        },
        "id": "6tUI2V1FyokY",
        "outputId": "7bf98f1b-b45e-4037-f747-741007eecc54"
      },
      "execution_count": null,
      "outputs": [
        {
          "output_type": "stream",
          "name": "stdout",
          "text": [
            "(2, '1984', 'George Orwell', 1949)\n",
            "(3, 'The Great Gatsby', 'F. Scott Fitzgerald', 1925)\n",
            "(5, '1984', 'George Orwell', 1949)\n",
            "(6, 'The Great Gatsby', 'F. Scott Fitzgerald', 1925)\n"
          ]
        }
      ]
    },
    {
      "cell_type": "code",
      "source": [
        "!wget https://archive.apache.org/dist/sqoop/1.4.5/sqoop-1.4.5.bin__hadoop-0.20.tar.gz"
      ],
      "metadata": {
        "colab": {
          "base_uri": "https://localhost:8080/"
        },
        "id": "paHLnOiOlXpE",
        "outputId": "0b5aa161-f760-4ea2-e51f-60f08145fb7d"
      },
      "execution_count": 2,
      "outputs": [
        {
          "output_type": "stream",
          "name": "stdout",
          "text": [
            "--2024-02-06 04:05:12--  https://archive.apache.org/dist/sqoop/1.4.5/sqoop-1.4.5.bin__hadoop-0.20.tar.gz\n",
            "Resolving archive.apache.org (archive.apache.org)... 65.108.204.189, 2a01:4f9:1a:a084::2\n",
            "Connecting to archive.apache.org (archive.apache.org)|65.108.204.189|:443... connected.\n",
            "HTTP request sent, awaiting response... 200 OK\n",
            "Length: 6455732 (6.2M) [application/x-gzip]\n",
            "Saving to: ‘sqoop-1.4.5.bin__hadoop-0.20.tar.gz’\n",
            "\n",
            "sqoop-1.4.5.bin__ha 100%[===================>]   6.16M  2.34MB/s    in 2.6s    \n",
            "\n",
            "2024-02-06 04:05:15 (2.34 MB/s) - ‘sqoop-1.4.5.bin__hadoop-0.20.tar.gz’ saved [6455732/6455732]\n",
            "\n"
          ]
        }
      ]
    },
    {
      "cell_type": "code",
      "source": [
        "!ls"
      ],
      "metadata": {
        "colab": {
          "base_uri": "https://localhost:8080/"
        },
        "id": "eumMCbSVmfDN",
        "outputId": "1e621320-07ae-4106-b3ef-64905c35aa12"
      },
      "execution_count": 6,
      "outputs": [
        {
          "output_type": "stream",
          "name": "stdout",
          "text": [
            "sample_data  sqoop-1.4.5.bin__hadoop-0.20  sqoop-1.4.5.bin__hadoop-0.20.tar.gz\n"
          ]
        }
      ]
    },
    {
      "cell_type": "code",
      "source": [
        "!tar -xvf sqoop-1.4.5.bin__hadoop-0.20.tar.gz"
      ],
      "metadata": {
        "id": "TkOsij9Ul9vd"
      },
      "execution_count": null,
      "outputs": []
    },
    {
      "cell_type": "code",
      "source": [
        "!mv sqoop-1.4.5.bin__hadoop-0.20 sqoop\n",
        "!mv sqoop /usr/lib/"
      ],
      "metadata": {
        "id": "teaUMXHdmsec"
      },
      "execution_count": 7,
      "outputs": []
    },
    {
      "cell_type": "code",
      "source": [
        "!export SQOOP_HOME=/usr/lib/sqoop\n",
        "!export PATH=$PATH:$SQOOP_HOME/bin\n",
        "!export =/usr/lib/hadoop\n",
        "!export HADOOP_MAPRED_HOME=/usr/lib/hadoop-mapreduce\n",
        "os.environ[\"HADOOP_COMMON_HOME\"] = \"/usr/lib/hadoop\""
      ],
      "metadata": {
        "id": "wpRx5SVcmzvF"
      },
      "execution_count": 24,
      "outputs": []
    },
    {
      "cell_type": "code",
      "source": [
        "!echo $HADOOP_COMMON_HOME"
      ],
      "metadata": {
        "colab": {
          "base_uri": "https://localhost:8080/"
        },
        "id": "aMzkk_DroC2N",
        "outputId": "709ee5ee-222d-4dd5-9e73-190566897642"
      },
      "execution_count": 23,
      "outputs": [
        {
          "output_type": "stream",
          "name": "stdout",
          "text": [
            "\n"
          ]
        }
      ]
    },
    {
      "cell_type": "code",
      "source": [
        "!ln -s /usr/share/java/mysql-connector-java-5.1.42.jar /usr/lib/sqoop/lib"
      ],
      "metadata": {
        "id": "5Ce6upsLnP0d"
      },
      "execution_count": 11,
      "outputs": []
    },
    {
      "cell_type": "code",
      "source": [
        "!/usr/lib/sqoop/bin/sqoop version"
      ],
      "metadata": {
        "colab": {
          "base_uri": "https://localhost:8080/"
        },
        "id": "GtiZoxXOndcF",
        "outputId": "7e0f4118-b648-44e7-c3b1-dc1e8325aea8"
      },
      "execution_count": 19,
      "outputs": [
        {
          "output_type": "stream",
          "name": "stdout",
          "text": [
            "Error: /usr/lib/sqoop/bin/../../hadoop does not exist!\n",
            "Please set $HADOOP_COMMON_HOME to the root of your Hadoop installation.\n"
          ]
        }
      ]
    }
  ]
}